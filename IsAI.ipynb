{
  "nbformat": 4,
  "nbformat_minor": 0,
  "metadata": {
    "colab": {
      "provenance": [],
      "authorship_tag": "ABX9TyOQl1nzJ1YClInzQuc7s3TW",
      "include_colab_link": true
    },
    "kernelspec": {
      "name": "python3",
      "display_name": "Python 3"
    },
    "language_info": {
      "name": "python"
    }
  },
  "cells": [
    {
      "cell_type": "markdown",
      "metadata": {
        "id": "view-in-github",
        "colab_type": "text"
      },
      "source": [
        "<a href=\"https://colab.research.google.com/github/SiphiweAI/IsAI/blob/main/IsAI.ipynb\" target=\"_parent\"><img src=\"https://colab.research.google.com/assets/colab-badge.svg\" alt=\"Open In Colab\"/></a>"
      ]
    },
    {
      "cell_type": "code",
      "execution_count": null,
      "metadata": {
        "id": "bNfad4hpkru0"
      },
      "outputs": [],
      "source": []
    },
    {
      "cell_type": "markdown",
      "source": [
        "# Scope\n",
        "- Use pretrained models that will review video, text or and/or image content and classify as being ai generated or not\n",
        "## Inputs\n",
        "- For Text - Hugging Face Transformers\n",
        "- For Images -\n",
        "- For Videos -\n",
        "## Outputs\n",
        "- Three separate models for text, image, and video detection, each trained and optimized independently.\n",
        "\n",
        "- A wrapper API or service that routes incoming data to the appropriate model based on content type.\n",
        "\n",
        "- Unified output format that reports whether the input is AI-generated, with modality-specific confidence scores."
      ],
      "metadata": {
        "id": "KjAq30iMmJmE"
      }
    },
    {
      "cell_type": "markdown",
      "source": [
        "# Text Model"
      ],
      "metadata": {
        "id": "PMMFpW9BsIIm"
      }
    },
    {
      "cell_type": "code",
      "source": [],
      "metadata": {
        "id": "4XINJ_OfqAW6"
      },
      "execution_count": null,
      "outputs": []
    },
    {
      "cell_type": "markdown",
      "source": [
        "# Image Model"
      ],
      "metadata": {
        "id": "4rYCR8sbsNcr"
      }
    },
    {
      "cell_type": "code",
      "source": [],
      "metadata": {
        "id": "9LJZ0MSNsPzI"
      },
      "execution_count": null,
      "outputs": []
    },
    {
      "cell_type": "code",
      "source": [],
      "metadata": {
        "id": "S0aLb3qPsQiq"
      },
      "execution_count": null,
      "outputs": []
    },
    {
      "cell_type": "markdown",
      "source": [
        "# Videos Model"
      ],
      "metadata": {
        "id": "Q58pD6k1sRDj"
      }
    },
    {
      "cell_type": "code",
      "source": [],
      "metadata": {
        "id": "qUPAm_79sULL"
      },
      "execution_count": null,
      "outputs": []
    }
  ]
}